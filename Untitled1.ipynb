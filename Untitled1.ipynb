{
 "cells": [
  {
   "cell_type": "code",
   "execution_count": 1,
   "metadata": {
    "collapsed": true
   },
   "outputs": [],
   "source": [
    "import summary as s\n",
    "import pandas as pd\n",
    "import numpy as np\n",
    "df = pd.read_csv('all_data.csv')"
   ]
  },
  {
   "cell_type": "code",
   "execution_count": 2,
   "metadata": {
    "collapsed": false
   },
   "outputs": [
    {
     "data": {
      "text/html": [
       "<div>\n",
       "<style>\n",
       "    .dataframe thead tr:only-child th {\n",
       "        text-align: right;\n",
       "    }\n",
       "\n",
       "    .dataframe thead th {\n",
       "        text-align: left;\n",
       "    }\n",
       "\n",
       "    .dataframe tbody tr th {\n",
       "        vertical-align: top;\n",
       "    }\n",
       "</style>\n",
       "<table border=\"1\" class=\"dataframe\">\n",
       "  <thead>\n",
       "    <tr style=\"text-align: right;\">\n",
       "      <th></th>\n",
       "      <th>DATE</th>\n",
       "      <th>US_EU</th>\n",
       "      <th>JP_US</th>\n",
       "      <th>US_UK</th>\n",
       "      <th>US_JP</th>\n",
       "      <th>EU_LIBOR</th>\n",
       "      <th>JP_LIBOR</th>\n",
       "      <th>UK_LIBOR</th>\n",
       "      <th>US_LIBOR</th>\n",
       "      <th>US_EU_LIBOR</th>\n",
       "      <th>US_JP_LIBOR</th>\n",
       "      <th>US_UK_LIBOR</th>\n",
       "      <th>Oil_Price</th>\n",
       "    </tr>\n",
       "  </thead>\n",
       "  <tbody>\n",
       "    <tr>\n",
       "      <th>0</th>\n",
       "      <td>2007-01-02</td>\n",
       "      <td>1.3286</td>\n",
       "      <td>118.83</td>\n",
       "      <td>1.9736</td>\n",
       "      <td>0.008415</td>\n",
       "      <td>3.61500</td>\n",
       "      <td>0.39250</td>\n",
       "      <td>5.12000</td>\n",
       "      <td>5.34250</td>\n",
       "      <td>1.72750</td>\n",
       "      <td>4.95000</td>\n",
       "      <td>0.22250</td>\n",
       "      <td>60.77</td>\n",
       "    </tr>\n",
       "    <tr>\n",
       "      <th>1</th>\n",
       "      <td>2007-01-03</td>\n",
       "      <td>1.3169</td>\n",
       "      <td>119.58</td>\n",
       "      <td>1.9498</td>\n",
       "      <td>0.008363</td>\n",
       "      <td>3.61375</td>\n",
       "      <td>0.39250</td>\n",
       "      <td>5.11688</td>\n",
       "      <td>5.30375</td>\n",
       "      <td>1.69000</td>\n",
       "      <td>4.91125</td>\n",
       "      <td>0.18687</td>\n",
       "      <td>58.31</td>\n",
       "    </tr>\n",
       "    <tr>\n",
       "      <th>2</th>\n",
       "      <td>2007-01-04</td>\n",
       "      <td>1.3094</td>\n",
       "      <td>119.28</td>\n",
       "      <td>1.9443</td>\n",
       "      <td>0.008384</td>\n",
       "      <td>3.61313</td>\n",
       "      <td>0.38750</td>\n",
       "      <td>5.11688</td>\n",
       "      <td>5.30125</td>\n",
       "      <td>1.68812</td>\n",
       "      <td>4.91375</td>\n",
       "      <td>0.18437</td>\n",
       "      <td>55.65</td>\n",
       "    </tr>\n",
       "    <tr>\n",
       "      <th>3</th>\n",
       "      <td>2007-01-05</td>\n",
       "      <td>1.3005</td>\n",
       "      <td>118.77</td>\n",
       "      <td>1.9305</td>\n",
       "      <td>0.008420</td>\n",
       "      <td>3.60563</td>\n",
       "      <td>0.37625</td>\n",
       "      <td>5.10688</td>\n",
       "      <td>5.30188</td>\n",
       "      <td>1.69625</td>\n",
       "      <td>4.92563</td>\n",
       "      <td>0.19500</td>\n",
       "      <td>56.29</td>\n",
       "    </tr>\n",
       "    <tr>\n",
       "      <th>4</th>\n",
       "      <td>2007-01-08</td>\n",
       "      <td>1.3023</td>\n",
       "      <td>118.49</td>\n",
       "      <td>1.9385</td>\n",
       "      <td>0.008440</td>\n",
       "      <td>3.59625</td>\n",
       "      <td>0.39125</td>\n",
       "      <td>5.09875</td>\n",
       "      <td>5.30000</td>\n",
       "      <td>1.70375</td>\n",
       "      <td>4.90875</td>\n",
       "      <td>0.20125</td>\n",
       "      <td>56.08</td>\n",
       "    </tr>\n",
       "  </tbody>\n",
       "</table>\n",
       "</div>"
      ],
      "text/plain": [
       "         DATE   US_EU   JP_US   US_UK     US_JP  EU_LIBOR  JP_LIBOR  UK_LIBOR  \\\n",
       "0  2007-01-02  1.3286  118.83  1.9736  0.008415   3.61500   0.39250   5.12000   \n",
       "1  2007-01-03  1.3169  119.58  1.9498  0.008363   3.61375   0.39250   5.11688   \n",
       "2  2007-01-04  1.3094  119.28  1.9443  0.008384   3.61313   0.38750   5.11688   \n",
       "3  2007-01-05  1.3005  118.77  1.9305  0.008420   3.60563   0.37625   5.10688   \n",
       "4  2007-01-08  1.3023  118.49  1.9385  0.008440   3.59625   0.39125   5.09875   \n",
       "\n",
       "   US_LIBOR  US_EU_LIBOR  US_JP_LIBOR  US_UK_LIBOR  Oil_Price  \n",
       "0   5.34250      1.72750      4.95000      0.22250      60.77  \n",
       "1   5.30375      1.69000      4.91125      0.18687      58.31  \n",
       "2   5.30125      1.68812      4.91375      0.18437      55.65  \n",
       "3   5.30188      1.69625      4.92563      0.19500      56.29  \n",
       "4   5.30000      1.70375      4.90875      0.20125      56.08  "
      ]
     },
     "execution_count": 2,
     "metadata": {},
     "output_type": "execute_result"
    }
   ],
   "source": [
    "df.head()"
   ]
  },
  {
   "cell_type": "code",
   "execution_count": 3,
   "metadata": {
    "collapsed": true
   },
   "outputs": [],
   "source": [
    "def A(series):\n",
    "    return 3"
   ]
  },
  {
   "cell_type": "code",
   "execution_count": 4,
   "metadata": {
    "collapsed": true
   },
   "outputs": [],
   "source": [
    "cols = ['US_EU','JP_US','US_UK','US_EU_LIBOR','US_UK_LIBOR','US_JP_LIBOR','US_JP']\n",
    "rm_dict = {}\n",
    "for col in cols:\n",
    "    rm_dict[col] = col.replace('_',' ')\n",
    "    \n",
    "cols = rm_dict.values()\n",
    "df.rename(columns=rm_dict, inplace=True)"
   ]
  },
  {
   "cell_type": "code",
   "execution_count": 5,
   "metadata": {
    "collapsed": false
   },
   "outputs": [
    {
     "data": {
      "text/plain": [
       "0"
      ]
     },
     "execution_count": 5,
     "metadata": {},
     "output_type": "execute_result"
    }
   ],
   "source": [
    "obj = s.summary(df=df,columns=cols, user_defined_val={'Trial':A, 'Trial2':A, 'Trial3':A, 'Trial4':A})\n",
    "\n",
    "obj.output_pdf_summary(path=\"\", max_ncols=3, max_nrows = 5)"
   ]
  },
  {
   "cell_type": "code",
   "execution_count": 6,
   "metadata": {
    "collapsed": false
   },
   "outputs": [
    {
     "data": {
      "text/html": [
       "\n",
       "        <iframe\n",
       "            width=\"600\"\n",
       "            height=\"300\"\n",
       "            src=\"summary.pdf\"\n",
       "            frameborder=\"0\"\n",
       "            allowfullscreen\n",
       "        ></iframe>\n",
       "        "
      ],
      "text/plain": [
       "<IPython.lib.display.IFrame at 0xcc805c0>"
      ]
     },
     "execution_count": 6,
     "metadata": {},
     "output_type": "execute_result"
    }
   ],
   "source": [
    "from IPython.display import IFrame\n",
    "IFrame(\"summary.pdf\", width=600, height=300)"
   ]
  },
  {
   "cell_type": "code",
   "execution_count": null,
   "metadata": {
    "collapsed": true
   },
   "outputs": [],
   "source": []
  }
 ],
 "metadata": {
  "kernelspec": {
   "display_name": "Python 2",
   "language": "python",
   "name": "python2"
  },
  "language_info": {
   "codemirror_mode": {
    "name": "ipython",
    "version": 2
   },
   "file_extension": ".py",
   "mimetype": "text/x-python",
   "name": "python",
   "nbconvert_exporter": "python",
   "pygments_lexer": "ipython2",
   "version": "2.7.13"
  }
 },
 "nbformat": 4,
 "nbformat_minor": 0
}
